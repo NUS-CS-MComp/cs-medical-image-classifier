{
 "cells": [
  {
   "cell_type": "code",
   "execution_count": 1,
   "metadata": {},
   "outputs": [],
   "source": [
    "from tensorflow.keras.models import Sequential\n",
    "from tensorflow.keras.layers import Dense, Activation, Conv2D, Flatten, Dropout, MaxPooling2D, BatchNormalization\n",
    "from tensorflow.keras.preprocessing.image import ImageDataGenerator\n",
    "from keras import regularizers, optimizers\n",
    "import os\n",
    "import numpy as np\n",
    "import matplotlib.pyplot as plt\n",
    "import pandas as pd"
   ]
  },
  {
   "cell_type": "code",
   "execution_count": 2,
   "metadata": {},
   "outputs": [],
   "source": [
    "traindf = pd.read_csv('train_label.csv', dtype=str)\n",
    "\n",
    "def append_ext(fn):\n",
    "    return fn+\".png\"\n",
    "\n",
    "traindf[\"ID\"]=traindf[\"ID\"].apply(append_ext)"
   ]
  },
  {
   "cell_type": "code",
   "execution_count": 14,
   "metadata": {},
   "outputs": [
    {
     "name": "stdout",
     "output_type": "stream",
     "text": [
      "Found 873 validated image filenames belonging to 3 classes.\n",
      "Found 291 validated image filenames belonging to 3 classes.\n"
     ]
    }
   ],
   "source": [
    "batch_size = 32\n",
    "\n",
    "datagen = ImageDataGenerator(rescale=1./255.,validation_split=0.25, zoom_range=0.2,)\n",
    "# datagen = ImageDataGenerator(rescale=1./255.,validation_split=0.25, )\n",
    "        \n",
    "train_generator = datagen.flow_from_dataframe(\n",
    "    dataframe = traindf,\n",
    "    directory = \"train_image/\",\n",
    "    x_col = \"ID\",\n",
    "    y_col = \"Label\",\n",
    "    subset = \"training\",\n",
    "    batch_size = batch_size,\n",
    "    seed = 23,\n",
    "    shuffle = True,\n",
    "    class_mode = \"categorical\",\n",
    "    target_size = (512,512)\n",
    ")\n",
    "\n",
    "valid_generator = datagen.flow_from_dataframe(\n",
    "    dataframe = traindf,\n",
    "    directory = \"train_image/\",\n",
    "    x_col = \"ID\",\n",
    "    y_col = \"Label\",\n",
    "    subset = \"validation\",\n",
    "    batch_size = batch_size,\n",
    "    seed = 23,\n",
    "    shuffle = True,\n",
    "    class_mode = \"categorical\",\n",
    "    target_size = (512,512)\n",
    ")"
   ]
  },
  {
   "cell_type": "code",
   "execution_count": 15,
   "metadata": {},
   "outputs": [
    {
     "name": "stdout",
     "output_type": "stream",
     "text": [
      "Found 292 images belonging to 1 classes.\n"
     ]
    }
   ],
   "source": [
    "test_generator = datagen.flow_from_directory(\n",
    "    \"test_image\", \n",
    "    batch_size = batch_size, \n",
    "    class_mode=None, \n",
    "    shuffle=False,\n",
    "    target_size = (512,512)\n",
    ")"
   ]
  },
  {
   "cell_type": "code",
   "execution_count": 16,
   "metadata": {},
   "outputs": [],
   "source": [
    "from keras.preprocessing.image import ImageDataGenerator\n",
    "from keras.models import Sequential\n",
    "from keras.layers import Conv2D, MaxPooling2D\n",
    "from keras.layers import Activation, Dropout, Flatten, Dense\n",
    "from keras import backend as K\n",
    "\n",
    "import warnings\n",
    "warnings.filterwarnings('ignore')\n",
    "\n",
    "# dimensions of our images.\n",
    "img_width, img_height = 512, 512\n",
    "\n",
    "nb_train_samples = 873\n",
    "nb_validation_samples = 291\n",
    "epochs = 50 \n",
    "\n",
    "if K.image_data_format() == 'channels_first':\n",
    "    input_shape = (3, img_width, img_height)\n",
    "else:\n",
    "    input_shape = (img_width, img_height, 3)"
   ]
  },
  {
   "cell_type": "code",
   "execution_count": 17,
   "metadata": {},
   "outputs": [],
   "source": [
    "model = Sequential()\n",
    "model.add(Conv2D(32, (3, 3), input_shape=input_shape))\n",
    "model.add(Activation('relu'))\n",
    "model.add(MaxPooling2D(pool_size=(2, 2)))\n",
    "\n",
    "model.add(Conv2D(32, (3, 3)))\n",
    "model.add(Activation('relu'))\n",
    "model.add(MaxPooling2D(pool_size=(2, 2)))\n",
    "\n",
    "model.add(Conv2D(64, (3, 3)))\n",
    "model.add(Activation('relu'))\n",
    "model.add(MaxPooling2D(pool_size=(2, 2)))\n",
    "\n",
    "model.add(Flatten())\n",
    "model.add(Dense(64))\n",
    "model.add(Activation('relu'))\n",
    "model.add(Dropout(0.5))\n",
    "model.add(Dense(3))\n",
    "model.add(Activation('softmax'))\n",
    "\n",
    "model.compile(loss='categorical_crossentropy',\n",
    "              optimizer='rmsprop',\n",
    "              metrics=['accuracy'])"
   ]
  },
  {
   "cell_type": "code",
   "execution_count": 18,
   "metadata": {},
   "outputs": [
    {
     "name": "stdout",
     "output_type": "stream",
     "text": [
      "Epoch 1/50\n",
      "27/27 [==============================] - 81s 3s/step - loss: 2.1318 - accuracy: 0.5446 - val_loss: 0.6444 - val_accuracy: 0.6771\n",
      "Epoch 2/50\n",
      "27/27 [==============================] - 95s 4s/step - loss: 0.6644 - accuracy: 0.6766 - val_loss: 0.5475 - val_accuracy: 0.7188\n",
      "Epoch 3/50\n",
      "27/27 [==============================] - 1957s 72s/step - loss: 0.5823 - accuracy: 0.7325 - val_loss: 0.5260 - val_accuracy: 0.7222\n",
      "Epoch 4/50\n",
      "27/27 [==============================] - 101s 4s/step - loss: 0.5592 - accuracy: 0.7170 - val_loss: 0.4686 - val_accuracy: 0.7882\n",
      "Epoch 5/50\n",
      "27/27 [==============================] - 679s 25s/step - loss: 0.5318 - accuracy: 0.7372 - val_loss: 0.4661 - val_accuracy: 0.7431\n",
      "Epoch 6/50\n",
      "27/27 [==============================] - 96s 4s/step - loss: 0.4849 - accuracy: 0.7622 - val_loss: 0.4129 - val_accuracy: 0.8125\n",
      "Epoch 7/50\n",
      "27/27 [==============================] - 96s 4s/step - loss: 0.4779 - accuracy: 0.7598 - val_loss: 0.4479 - val_accuracy: 0.7396\n",
      "Epoch 8/50\n",
      "27/27 [==============================] - 97s 4s/step - loss: 0.4658 - accuracy: 0.7848 - val_loss: 0.4332 - val_accuracy: 0.8090\n",
      "Epoch 9/50\n",
      "27/27 [==============================] - 97s 4s/step - loss: 0.4496 - accuracy: 0.7931 - val_loss: 0.4065 - val_accuracy: 0.8125\n",
      "Epoch 10/50\n",
      "27/27 [==============================] - 97s 4s/step - loss: 0.4070 - accuracy: 0.8098 - val_loss: 0.4105 - val_accuracy: 0.8090\n",
      "Epoch 11/50\n",
      "27/27 [==============================] - 98s 4s/step - loss: 0.3894 - accuracy: 0.8050 - val_loss: 0.3668 - val_accuracy: 0.8229\n",
      "Epoch 12/50\n",
      "27/27 [==============================] - 97s 4s/step - loss: 0.4424 - accuracy: 0.7669 - val_loss: 0.3852 - val_accuracy: 0.8090\n",
      "Epoch 13/50\n",
      "27/27 [==============================] - 98s 4s/step - loss: 0.3741 - accuracy: 0.8312 - val_loss: 0.4229 - val_accuracy: 0.8194\n",
      "Epoch 14/50\n",
      "27/27 [==============================] - 98s 4s/step - loss: 0.3790 - accuracy: 0.8252 - val_loss: 0.5566 - val_accuracy: 0.7812\n",
      "Epoch 15/50\n",
      "27/27 [==============================] - 98s 4s/step - loss: 0.3667 - accuracy: 0.8240 - val_loss: 0.3826 - val_accuracy: 0.8264\n",
      "Epoch 16/50\n",
      "27/27 [==============================] - 98s 4s/step - loss: 0.3509 - accuracy: 0.8264 - val_loss: 0.3686 - val_accuracy: 0.8021\n",
      "Epoch 17/50\n",
      "27/27 [==============================] - 98s 4s/step - loss: 0.3699 - accuracy: 0.8169 - val_loss: 0.3977 - val_accuracy: 0.8056\n",
      "Epoch 18/50\n",
      "27/27 [==============================] - 98s 4s/step - loss: 0.3336 - accuracy: 0.8526 - val_loss: 0.3823 - val_accuracy: 0.7917\n",
      "Epoch 19/50\n",
      "27/27 [==============================] - 98s 4s/step - loss: 0.3388 - accuracy: 0.8228 - val_loss: 0.3741 - val_accuracy: 0.8194\n",
      "Epoch 20/50\n",
      "27/27 [==============================] - 98s 4s/step - loss: 0.3402 - accuracy: 0.8395 - val_loss: 0.3791 - val_accuracy: 0.8299\n",
      "Epoch 21/50\n",
      "27/27 [==============================] - 98s 4s/step - loss: 0.3299 - accuracy: 0.8526 - val_loss: 0.3847 - val_accuracy: 0.8299\n",
      "Epoch 22/50\n",
      "27/27 [==============================] - 99s 4s/step - loss: 0.3307 - accuracy: 0.8526 - val_loss: 0.3405 - val_accuracy: 0.8368\n",
      "Epoch 23/50\n",
      "27/27 [==============================] - 14502s 537s/step - loss: 0.3648 - accuracy: 0.8454 - val_loss: 0.3248 - val_accuracy: 0.8299\n",
      "Epoch 24/50\n",
      "27/27 [==============================] - 11592s 429s/step - loss: 0.2873 - accuracy: 0.8537 - val_loss: 0.3985 - val_accuracy: 0.8160\n",
      "Epoch 25/50\n",
      "27/27 [==============================] - 80s 3s/step - loss: 0.2858 - accuracy: 0.8478 - val_loss: 0.3396 - val_accuracy: 0.8160\n",
      "Epoch 26/50\n",
      "27/27 [==============================] - 83s 3s/step - loss: 0.3057 - accuracy: 0.8478 - val_loss: 0.3440 - val_accuracy: 0.8229\n",
      "Epoch 27/50\n",
      "27/27 [==============================] - 81s 3s/step - loss: 0.2818 - accuracy: 0.8621 - val_loss: 0.4203 - val_accuracy: 0.8438\n",
      "Epoch 28/50\n",
      "27/27 [==============================] - 80s 3s/step - loss: 0.2840 - accuracy: 0.8692 - val_loss: 0.3698 - val_accuracy: 0.8194\n",
      "Epoch 29/50\n",
      "27/27 [==============================] - 77s 3s/step - loss: 0.2983 - accuracy: 0.8751 - val_loss: 0.3874 - val_accuracy: 0.8090\n",
      "Epoch 30/50\n",
      "27/27 [==============================] - 78s 3s/step - loss: 0.2773 - accuracy: 0.8740 - val_loss: 0.3399 - val_accuracy: 0.8438\n",
      "Epoch 31/50\n",
      "27/27 [==============================] - 78s 3s/step - loss: 0.2551 - accuracy: 0.8763 - val_loss: 0.3285 - val_accuracy: 0.8472\n",
      "Epoch 32/50\n",
      "27/27 [==============================] - 79s 3s/step - loss: 0.2786 - accuracy: 0.8763 - val_loss: 0.3451 - val_accuracy: 0.8333\n",
      "Epoch 33/50\n",
      "27/27 [==============================] - 80s 3s/step - loss: 0.3027 - accuracy: 0.8763 - val_loss: 0.3783 - val_accuracy: 0.8403\n",
      "Epoch 34/50\n",
      "27/27 [==============================] - 79s 3s/step - loss: 0.2377 - accuracy: 0.9025 - val_loss: 0.3365 - val_accuracy: 0.8576\n",
      "Epoch 35/50\n",
      "27/27 [==============================] - 80s 3s/step - loss: 0.2458 - accuracy: 0.9049 - val_loss: 0.3586 - val_accuracy: 0.8333\n",
      "Epoch 36/50\n",
      "27/27 [==============================] - 81s 3s/step - loss: 0.2371 - accuracy: 0.8889 - val_loss: 0.4400 - val_accuracy: 0.8368\n",
      "Epoch 37/50\n",
      "27/27 [==============================] - 79s 3s/step - loss: 0.2589 - accuracy: 0.8787 - val_loss: 0.4367 - val_accuracy: 0.8194\n",
      "Epoch 38/50\n",
      "27/27 [==============================] - 79s 3s/step - loss: 0.2226 - accuracy: 0.9037 - val_loss: 0.4556 - val_accuracy: 0.8333\n",
      "Epoch 39/50\n",
      "27/27 [==============================] - 79s 3s/step - loss: 0.2396 - accuracy: 0.9001 - val_loss: 0.3535 - val_accuracy: 0.8542\n",
      "Epoch 40/50\n",
      "27/27 [==============================] - 79s 3s/step - loss: 0.2313 - accuracy: 0.9191 - val_loss: 0.3728 - val_accuracy: 0.8403\n",
      "Epoch 41/50\n",
      "27/27 [==============================] - 83s 3s/step - loss: 0.2347 - accuracy: 0.8989 - val_loss: 0.2919 - val_accuracy: 0.8368\n",
      "Epoch 42/50\n",
      "27/27 [==============================] - 80s 3s/step - loss: 0.2220 - accuracy: 0.8894 - val_loss: 0.3681 - val_accuracy: 0.8507\n",
      "Epoch 43/50\n",
      "27/27 [==============================] - 79s 3s/step - loss: 0.2246 - accuracy: 0.9049 - val_loss: 0.3473 - val_accuracy: 0.8646\n",
      "Epoch 44/50\n",
      "27/27 [==============================] - 80s 3s/step - loss: 0.2310 - accuracy: 0.9049 - val_loss: 0.4222 - val_accuracy: 0.8507\n",
      "Epoch 45/50\n",
      "27/27 [==============================] - 79s 3s/step - loss: 0.2456 - accuracy: 0.8942 - val_loss: 0.3969 - val_accuracy: 0.8125\n",
      "Epoch 46/50\n",
      "27/27 [==============================] - 79s 3s/step - loss: 0.2070 - accuracy: 0.9061 - val_loss: 0.3793 - val_accuracy: 0.8368\n",
      "Epoch 47/50\n",
      "27/27 [==============================] - 80s 3s/step - loss: 0.2168 - accuracy: 0.9120 - val_loss: 0.4534 - val_accuracy: 0.8333\n",
      "Epoch 48/50\n",
      "27/27 [==============================] - 81s 3s/step - loss: 0.2039 - accuracy: 0.9120 - val_loss: 0.2980 - val_accuracy: 0.8507\n",
      "Epoch 49/50\n",
      "27/27 [==============================] - 79s 3s/step - loss: 0.2105 - accuracy: 0.9061 - val_loss: 0.4404 - val_accuracy: 0.8576\n",
      "Epoch 50/50\n",
      "27/27 [==============================] - 78s 3s/step - loss: 0.2312 - accuracy: 0.9025 - val_loss: 0.3401 - val_accuracy: 0.8403\n"
     ]
    },
    {
     "data": {
      "text/plain": [
       "<tensorflow.python.keras.callbacks.History at 0x7fb7f33667f0>"
      ]
     },
     "execution_count": 18,
     "metadata": {},
     "output_type": "execute_result"
    }
   ],
   "source": [
    "model.fit_generator(\n",
    "    train_generator,\n",
    "    steps_per_epoch=nb_train_samples // batch_size,\n",
    "    epochs=epochs,\n",
    "    validation_data=valid_generator,\n",
    "    validation_steps=nb_validation_samples // batch_size)"
   ]
  },
  {
   "cell_type": "code",
   "execution_count": 13,
   "metadata": {},
   "outputs": [
    {
     "name": "stdout",
     "output_type": "stream",
     "text": [
      "Model: \"sequential_1\"\n",
      "_________________________________________________________________\n",
      "Layer (type)                 Output Shape              Param #   \n",
      "=================================================================\n",
      "conv2d_3 (Conv2D)            (None, 508, 508, 32)      896       \n",
      "_________________________________________________________________\n",
      "activation_5 (Activation)    (None, 508, 508, 32)      0         \n",
      "_________________________________________________________________\n",
      "max_pooling2d_3 (MaxPooling2 (None, 254, 254, 32)      0         \n",
      "_________________________________________________________________\n",
      "conv2d_4 (Conv2D)            (None, 252, 252, 32)      9248      \n",
      "_________________________________________________________________\n",
      "activation_6 (Activation)    (None, 252, 252, 32)      0         \n",
      "_________________________________________________________________\n",
      "max_pooling2d_4 (MaxPooling2 (None, 126, 126, 32)      0         \n",
      "_________________________________________________________________\n",
      "conv2d_5 (Conv2D)            (None, 124, 124, 64)      18496     \n",
      "_________________________________________________________________\n",
      "activation_7 (Activation)    (None, 124, 124, 64)      0         \n",
      "_________________________________________________________________\n",
      "max_pooling2d_5 (MaxPooling2 (None, 62, 62, 64)        0         \n",
      "_________________________________________________________________\n",
      "flatten_1 (Flatten)          (None, 246016)            0         \n",
      "_________________________________________________________________\n",
      "dense_2 (Dense)              (None, 64)                15745088  \n",
      "_________________________________________________________________\n",
      "activation_8 (Activation)    (None, 64)                0         \n",
      "_________________________________________________________________\n",
      "dropout_1 (Dropout)          (None, 64)                0         \n",
      "_________________________________________________________________\n",
      "dense_3 (Dense)              (None, 3)                 195       \n",
      "_________________________________________________________________\n",
      "activation_9 (Activation)    (None, 3)                 0         \n",
      "=================================================================\n",
      "Total params: 15,773,923\n",
      "Trainable params: 15,773,923\n",
      "Non-trainable params: 0\n",
      "_________________________________________________________________\n"
     ]
    }
   ],
   "source": [
    "model.summary()"
   ]
  },
  {
   "cell_type": "code",
   "execution_count": 19,
   "metadata": {},
   "outputs": [],
   "source": [
    "predicted = model.predict(\n",
    "    test_generator,\n",
    "    batch_size=batch_size,\n",
    "    verbose=0,\n",
    "    steps=None,\n",
    "    callbacks=None,\n",
    "    max_queue_size=10,\n",
    "    workers=1,\n",
    "    use_multiprocessing=False,\n",
    ")"
   ]
  },
  {
   "cell_type": "code",
   "execution_count": 22,
   "metadata": {},
   "outputs": [],
   "source": [
    "prediction = predicted.argmax(axis=1)"
   ]
  },
  {
   "cell_type": "code",
   "execution_count": 25,
   "metadata": {},
   "outputs": [],
   "source": [
    "np.savetxt(\"predicted.csv\", np.dstack((np.arange(prediction.size),prediction))[0],\"%d,%d\",header=\"ID,Label\",comments=\"\", )"
   ]
  },
  {
   "cell_type": "code",
   "execution_count": null,
   "metadata": {},
   "outputs": [],
   "source": []
  }
 ],
 "metadata": {
  "kernelspec": {
   "display_name": "Python 3",
   "language": "python",
   "name": "python3"
  },
  "language_info": {
   "codemirror_mode": {
    "name": "ipython",
    "version": 3
   },
   "file_extension": ".py",
   "mimetype": "text/x-python",
   "name": "python",
   "nbconvert_exporter": "python",
   "pygments_lexer": "ipython3",
   "version": "3.8.3"
  }
 },
 "nbformat": 4,
 "nbformat_minor": 4
}
